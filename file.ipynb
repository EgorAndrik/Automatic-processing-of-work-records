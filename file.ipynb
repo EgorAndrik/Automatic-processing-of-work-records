{
 "cells": [
  {
   "cell_type": "code",
   "execution_count": 2,
   "metadata": {},
   "outputs": [
    {
     "name": "stdout",
     "output_type": "stream",
     "text": [
      "WARNING:tensorflow:From c:\\Users\\User\\AppData\\Local\\Programs\\Python\\Python311\\Lib\\site-packages\\keras\\src\\losses.py:2976: The name tf.losses.sparse_softmax_cross_entropy is deprecated. Please use tf.compat.v1.losses.sparse_softmax_cross_entropy instead.\n",
      "\n",
      "WARNING:tensorflow:From c:\\Users\\User\\AppData\\Local\\Programs\\Python\\Python311\\Lib\\site-packages\\keras\\src\\backend.py:873: The name tf.get_default_graph is deprecated. Please use tf.compat.v1.get_default_graph instead.\n",
      "\n"
     ]
    }
   ],
   "source": [
    "from doc2text.reader import Reader\n",
    "import cv2\n",
    "import numpy as np\n",
    "from PIL import Image\n",
    "import pytesseract\n",
    "import os\n",
    "import warnings\n",
    "import keras_ocr\n",
    "import tensorflow\n",
    "\n",
    "warnings.simplefilter('ignore')"
   ]
  },
  {
   "cell_type": "code",
   "execution_count": 37,
   "metadata": {},
   "outputs": [],
   "source": [
    "class GetBoxes:\n",
    "    def __init__(self) -> None:\n",
    "        self.pipeline = keras_ocr.pipeline.Pipeline()\n",
    "    \n",
    "    @staticmethod\n",
    "    def crop_rectangle(image: np.ndarray, box: np.ndarray) -> np.ndarray:\n",
    "        \"\"\"\n",
    "        Вырезает прямоугольник из изображения по координатам четырех углов.\n",
    "\n",
    "        Параметры:\n",
    "        image (np.ndarray): Изображение, из которого нужно вырезать прямоугольник.\n",
    "        box (np.ndarray): Массив координат четырех углов прямоугольника.\n",
    "\n",
    "        Возвращает:\n",
    "        np.ndarray: Вырезанный прямоугольник.\n",
    "        \"\"\"\n",
    "        # Находим размер вырезаемого прямоугольника\n",
    "        width = int(np.linalg.norm(box[0] - box[1]))\n",
    "        height = int(np.linalg.norm(box[1] - box[2]))\n",
    "\n",
    "        # Определяем целевые точки (прямоугольник с найденными размерами)\n",
    "        dst_pts = np.array([[0, 0], [width, 0], [width, height], [0, height]], dtype=\"float32\")\n",
    "\n",
    "        # Вычисляем матрицу перспективного преобразования\n",
    "        M = cv2.getPerspectiveTransform(box.astype(\"float32\"), dst_pts)\n",
    "\n",
    "        # Применяем преобразование и вырезаем прямоугольник\n",
    "        cropped_image = cv2.warpPerspective(image, M, (width, height))\n",
    "\n",
    "        return cropped_image\n",
    "\n",
    "\n",
    "    def get_box(self, img_path: str, img_to='temp') -> list:\n",
    "        if not os.path.exists(img_to):\n",
    "            os.mkdir(img_to)\n",
    "        image = keras_ocr.tools.read(img_path)\n",
    "        predictions = self.pipeline.recognize([image])[0]\n",
    "        boxes = [box for _, box in predictions]\n",
    "        for i, box in enumerate(boxes):\n",
    "            src = img_to + os.sep + f'{i}.jpg'\n",
    "            img = self.crop_rectangle(image, box)\n",
    "            Image.fromarray(img).save(src)\n",
    "            \n",
    "\n",
    "    \n"
   ]
  },
  {
   "cell_type": "code",
   "execution_count": 38,
   "metadata": {},
   "outputs": [
    {
     "name": "stdout",
     "output_type": "stream",
     "text": [
      "Looking for C:\\Users\\User\\.keras-ocr\\craft_mlt_25k.h5\n",
      "Looking for C:\\Users\\User\\.keras-ocr\\crnn_kurapan.h5\n"
     ]
    }
   ],
   "source": [
    "gtb = GetBoxes()"
   ]
  },
  {
   "cell_type": "code",
   "execution_count": 39,
   "metadata": {},
   "outputs": [
    {
     "name": "stdout",
     "output_type": "stream",
     "text": [
      "1/1 [==============================] - 7s 7s/step\n",
      "5/5 [==============================] - 7s 978ms/step\n"
     ]
    }
   ],
   "source": [
    "gtb.get_box(r'1\\IMG-20240504-WA0070.jpg')"
   ]
  },
  {
   "cell_type": "code",
   "execution_count": 18,
   "metadata": {},
   "outputs": [],
   "source": [
    "pytesseract.pytesseract.tesseract_cmd = r'C:\\Program Files\\Tesseract-OCR\\tesseract.exe'"
   ]
  },
  {
   "cell_type": "code",
   "execution_count": 3,
   "metadata": {},
   "outputs": [
    {
     "name": "stdout",
     "output_type": "stream",
     "text": [
      "recognizer weights has loaded from c:\\Users\\User\\Desktop\\II\\Tekst\\train_RZHD_TrudovieKnizhki\\doc2text\\weights/ocr_transformer_4h2l_simple_conv_64x256.pt\n"
     ]
    }
   ],
   "source": [
    "rd = Reader()"
   ]
  },
  {
   "cell_type": "code",
   "execution_count": 11,
   "metadata": {},
   "outputs": [],
   "source": [
    "line = rd.doc2text(r'Скриншот 17-05-2024 232603.jpg')"
   ]
  },
  {
   "cell_type": "code",
   "execution_count": 13,
   "metadata": {},
   "outputs": [
    {
     "data": {
      "text/plain": [
       "'Функция 1 я Япунов '"
      ]
     },
     "execution_count": 13,
     "metadata": {},
     "output_type": "execute_result"
    }
   ],
   "source": [
    "line[0]"
   ]
  },
  {
   "cell_type": "code",
   "execution_count": 15,
   "metadata": {},
   "outputs": [],
   "source": [
    "img = cv2.imread(r'Скриншот 17-05-2024 232603.jpg')"
   ]
  },
  {
   "cell_type": "code",
   "execution_count": 19,
   "metadata": {},
   "outputs": [
    {
     "data": {
      "text/plain": [
       "'Фамилия _ /& ‹’И(;/ иёв\\n\\n'"
      ]
     },
     "execution_count": 19,
     "metadata": {},
     "output_type": "execute_result"
    }
   ],
   "source": [
    "pytesseract.image_to_string(img, lang='rus')"
   ]
  },
  {
   "cell_type": "code",
   "execution_count": null,
   "metadata": {},
   "outputs": [],
   "source": []
  }
 ],
 "metadata": {
  "kernelspec": {
   "display_name": "Python 3",
   "language": "python",
   "name": "python3"
  },
  "language_info": {
   "codemirror_mode": {
    "name": "ipython",
    "version": 3
   },
   "file_extension": ".py",
   "mimetype": "text/x-python",
   "name": "python",
   "nbconvert_exporter": "python",
   "pygments_lexer": "ipython3",
   "version": "3.11.6"
  }
 },
 "nbformat": 4,
 "nbformat_minor": 2
}
